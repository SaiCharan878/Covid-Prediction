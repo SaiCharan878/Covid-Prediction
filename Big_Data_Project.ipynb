{
  "nbformat": 4,
  "nbformat_minor": 0,
  "metadata": {
    "colab": {
      "provenance": []
    },
    "kernelspec": {
      "name": "python3",
      "display_name": "Python 3"
    },
    "language_info": {
      "name": "python"
    }
  },
  "cells": [
    {
      "cell_type": "markdown",
      "source": [
        "#**Importing and installing required files**"
      ],
      "metadata": {
        "id": "rAP9fqrUVxxT"
      }
    },
    {
      "cell_type": "code",
      "source": [
        "!pip install -q findspark"
      ],
      "metadata": {
        "id": "EU7HbH-0Lfhb"
      },
      "execution_count": null,
      "outputs": []
    },
    {
      "cell_type": "code",
      "source": [
        "!pip install pyspark"
      ],
      "metadata": {
        "colab": {
          "base_uri": "https://localhost:8080/"
        },
        "id": "KGeBG4yotrJ5",
        "outputId": "ffcc6cbb-5a58-4f21-8d7f-a0a2beceb132"
      },
      "execution_count": null,
      "outputs": [
        {
          "output_type": "stream",
          "name": "stdout",
          "text": [
            "Looking in indexes: https://pypi.org/simple, https://us-python.pkg.dev/colab-wheels/public/simple/\n",
            "Collecting pyspark\n",
            "  Downloading pyspark-3.3.2.tar.gz (281.4 MB)\n",
            "\u001b[2K     \u001b[90m━━━━━━━━━━━━━━━━━━━━━━━━━━━━━━━━━━━━━━━\u001b[0m \u001b[32m281.4/281.4 MB\u001b[0m \u001b[31m4.3 MB/s\u001b[0m eta \u001b[36m0:00:00\u001b[0m\n",
            "\u001b[?25h  Preparing metadata (setup.py) ... \u001b[?25l\u001b[?25hdone\n",
            "Collecting py4j==0.10.9.5\n",
            "  Downloading py4j-0.10.9.5-py2.py3-none-any.whl (199 kB)\n",
            "\u001b[2K     \u001b[90m━━━━━━━━━━━━━━━━━━━━━━━━━━━━━━━━━━━━━━\u001b[0m \u001b[32m199.7/199.7 kB\u001b[0m \u001b[31m20.2 MB/s\u001b[0m eta \u001b[36m0:00:00\u001b[0m\n",
            "\u001b[?25hBuilding wheels for collected packages: pyspark\n",
            "  Building wheel for pyspark (setup.py) ... \u001b[?25l\u001b[?25hdone\n",
            "  Created wheel for pyspark: filename=pyspark-3.3.2-py2.py3-none-any.whl size=281824028 sha256=919997132b407df27d44be4cbbe91edc8bfd2b0795d0f517c8baa633eb37a9e4\n",
            "  Stored in directory: /root/.cache/pip/wheels/6c/e3/9b/0525ce8a69478916513509d43693511463c6468db0de237c86\n",
            "Successfully built pyspark\n",
            "Installing collected packages: py4j, pyspark\n",
            "  Attempting uninstall: py4j\n",
            "    Found existing installation: py4j 0.10.9.7\n",
            "    Uninstalling py4j-0.10.9.7:\n",
            "      Successfully uninstalled py4j-0.10.9.7\n",
            "Successfully installed py4j-0.10.9.5 pyspark-3.3.2\n"
          ]
        }
      ]
    },
    {
      "cell_type": "code",
      "source": [
        "import os\n",
        "import matplotlib.pyplot as plt\n",
        "import findspark\n",
        "from pyspark.sql import SparkSession\n",
        "from pyspark.ml.feature import StringIndexer\n",
        "from pyspark.ml.linalg import Vectors\n",
        "from pyspark.ml.feature import VectorAssembler"
      ],
      "metadata": {
        "id": "wscQSMd7ISef"
      },
      "execution_count": null,
      "outputs": []
    },
    {
      "cell_type": "code",
      "execution_count": null,
      "metadata": {
        "id": "VOksWqHxbLog"
      },
      "outputs": [],
      "source": [
        "!apt-get install openjdk-8-jdk-headless -qq > /dev/null"
      ]
    },
    {
      "cell_type": "code",
      "source": [
        "!wget -q https://dlcdn.apache.org/spark/spark-3.3.2/spark-3.3.2-bin-hadoop3.tgz"
      ],
      "metadata": {
        "id": "fXNy0-03Lc2J"
      },
      "execution_count": null,
      "outputs": []
    },
    {
      "cell_type": "code",
      "source": [
        "!tar xf spark-3.3.2-bin-hadoop3.tgz"
      ],
      "metadata": {
        "id": "qOym1YgxLfeZ"
      },
      "execution_count": null,
      "outputs": []
    },
    {
      "cell_type": "markdown",
      "source": [
        "**Setting Path**"
      ],
      "metadata": {
        "id": "ApqAJL84WCjv"
      }
    },
    {
      "cell_type": "code",
      "source": [
        "os.environ[\"JAVA_HOME\"] = \"/usr/lib/jvm/java-8-openjdk-amd64\"\n",
        "os.environ[\"SPARK_HOME\"] = \"/content/spark-3.3.2-bin-hadoop3\""
      ],
      "metadata": {
        "id": "dk6qTfNHIShN"
      },
      "execution_count": null,
      "outputs": []
    },
    {
      "cell_type": "markdown",
      "source": [
        "**Creating Spark Session**"
      ],
      "metadata": {
        "id": "g-5Z0ZnHWIgv"
      }
    },
    {
      "cell_type": "code",
      "source": [
        "findspark.find()"
      ],
      "metadata": {
        "colab": {
          "base_uri": "https://localhost:8080/",
          "height": 35
        },
        "id": "87gRHEFFISl9",
        "outputId": "a1db8f5c-d8e3-4860-cda9-bc8dfc92fdc9"
      },
      "execution_count": null,
      "outputs": [
        {
          "output_type": "execute_result",
          "data": {
            "text/plain": [
              "'/content/spark-3.3.2-bin-hadoop3'"
            ],
            "application/vnd.google.colaboratory.intrinsic+json": {
              "type": "string"
            }
          },
          "metadata": {},
          "execution_count": 8
        }
      ]
    },
    {
      "cell_type": "code",
      "source": [
        "findspark.init()"
      ],
      "metadata": {
        "id": "qkgsoKV9ISog"
      },
      "execution_count": null,
      "outputs": []
    },
    {
      "cell_type": "code",
      "source": [
        "spark = SparkSession.builder\\\n",
        ".master(\"local\")\\\n",
        ".appName(\"Colab\")\\\n",
        ".config('spark.ui.port', '4050')\\\n",
        ".getOrCreate()"
      ],
      "metadata": {
        "id": "XnMvli0_JBfK"
      },
      "execution_count": null,
      "outputs": []
    },
    {
      "cell_type": "code",
      "source": [
        "spark"
      ],
      "metadata": {
        "colab": {
          "base_uri": "https://localhost:8080/",
          "height": 219
        },
        "id": "FK6s3vP_JBhp",
        "outputId": "9050090b-7c02-4d9d-9e2a-c69d2e95368e"
      },
      "execution_count": null,
      "outputs": [
        {
          "output_type": "execute_result",
          "data": {
            "text/plain": [
              "<pyspark.sql.session.SparkSession at 0x7f714df11640>"
            ],
            "text/html": [
              "\n",
              "            <div>\n",
              "                <p><b>SparkSession - in-memory</b></p>\n",
              "                \n",
              "        <div>\n",
              "            <p><b>SparkContext</b></p>\n",
              "\n",
              "            <p><a href=\"http://cf7de083c620:4050\">Spark UI</a></p>\n",
              "\n",
              "            <dl>\n",
              "              <dt>Version</dt>\n",
              "                <dd><code>v3.3.2</code></dd>\n",
              "              <dt>Master</dt>\n",
              "                <dd><code>local</code></dd>\n",
              "              <dt>AppName</dt>\n",
              "                <dd><code>Colab</code></dd>\n",
              "            </dl>\n",
              "        </div>\n",
              "        \n",
              "            </div>\n",
              "        "
            ]
          },
          "metadata": {},
          "execution_count": 11
        }
      ]
    },
    {
      "cell_type": "markdown",
      "source": [
        "#**Importing Tarining and Testing Data**"
      ],
      "metadata": {
        "id": "0WeKMvgMWNNf"
      }
    },
    {
      "cell_type": "code",
      "source": [
        "train_df = spark.read.csv('/content/drive/MyDrive/trainBD.csv',header = \"true\")"
      ],
      "metadata": {
        "id": "YFf1BWgzJBkT"
      },
      "execution_count": null,
      "outputs": []
    },
    {
      "cell_type": "code",
      "source": [
        "train_df.show()"
      ],
      "metadata": {
        "colab": {
          "base_uri": "https://localhost:8080/"
        },
        "id": "al1pomEtJBpy",
        "outputId": "c3cf7afc-fa7d-4cb7-badc-328ffb930b96"
      },
      "execution_count": null,
      "outputs": [
        {
          "output_type": "stream",
          "name": "stdout",
          "text": [
            "+---+--------------+--------------+----------+--------------+----------+\n",
            "| Id|Province_State|Country_Region|      Date|ConfirmedCases|Fatalities|\n",
            "+---+--------------+--------------+----------+--------------+----------+\n",
            "|  1|          null|   Afghanistan|2020-01-22|           0.0|       0.0|\n",
            "|  2|          null|   Afghanistan|2020-01-23|           0.0|       0.0|\n",
            "|  3|          null|   Afghanistan|2020-01-24|           0.0|       0.0|\n",
            "|  4|          null|   Afghanistan|2020-01-25|           0.0|       0.0|\n",
            "|  5|          null|   Afghanistan|2020-01-26|           0.0|       0.0|\n",
            "|  6|          null|   Afghanistan|2020-01-27|           0.0|       0.0|\n",
            "|  7|          null|   Afghanistan|2020-01-28|           0.0|       0.0|\n",
            "|  8|          null|   Afghanistan|2020-01-29|           0.0|       0.0|\n",
            "|  9|          null|   Afghanistan|2020-01-30|           0.0|       0.0|\n",
            "| 10|          null|   Afghanistan|2020-01-31|           0.0|       0.0|\n",
            "| 11|          null|   Afghanistan|2020-02-01|           0.0|       0.0|\n",
            "| 12|          null|   Afghanistan|2020-02-02|           0.0|       0.0|\n",
            "| 13|          null|   Afghanistan|2020-02-03|           0.0|       0.0|\n",
            "| 14|          null|   Afghanistan|2020-02-04|           0.0|       0.0|\n",
            "| 15|          null|   Afghanistan|2020-02-05|           0.0|       0.0|\n",
            "| 16|          null|   Afghanistan|2020-02-06|           0.0|       0.0|\n",
            "| 17|          null|   Afghanistan|2020-02-07|           0.0|       0.0|\n",
            "| 18|          null|   Afghanistan|2020-02-08|           0.0|       0.0|\n",
            "| 19|          null|   Afghanistan|2020-02-09|           0.0|       0.0|\n",
            "| 20|          null|   Afghanistan|2020-02-10|           0.0|       0.0|\n",
            "+---+--------------+--------------+----------+--------------+----------+\n",
            "only showing top 20 rows\n",
            "\n"
          ]
        }
      ]
    },
    {
      "cell_type": "code",
      "source": [
        "train_df.printSchema()"
      ],
      "metadata": {
        "colab": {
          "base_uri": "https://localhost:8080/"
        },
        "id": "1U0NuFN1IG2_",
        "outputId": "af715da4-7064-4620-adc4-2d553054f44e"
      },
      "execution_count": null,
      "outputs": [
        {
          "output_type": "stream",
          "name": "stdout",
          "text": [
            "root\n",
            " |-- Id: string (nullable = true)\n",
            " |-- Province_State: string (nullable = true)\n",
            " |-- Country_Region: string (nullable = true)\n",
            " |-- Date: string (nullable = true)\n",
            " |-- ConfirmedCases: string (nullable = true)\n",
            " |-- Fatalities: string (nullable = true)\n",
            "\n"
          ]
        }
      ]
    },
    {
      "cell_type": "code",
      "source": [
        "train_df.describe()"
      ],
      "metadata": {
        "colab": {
          "base_uri": "https://localhost:8080/"
        },
        "id": "7DrNPPtHXQAj",
        "outputId": "395129fe-2a4a-4696-f184-fe5f15adbcbe"
      },
      "execution_count": null,
      "outputs": [
        {
          "output_type": "execute_result",
          "data": {
            "text/plain": [
              "DataFrame[summary: string, Id: string, Province_State: string, Country_Region: string, Date: string, ConfirmedCases: string, Fatalities: string]"
            ]
          },
          "metadata": {},
          "execution_count": 15
        }
      ]
    },
    {
      "cell_type": "code",
      "source": [
        "train_df.createOrReplaceTempView(\"train_df\")\n",
        "sqlDF = spark.sql(\"SELECT Country_Region FROM train_df GROUP BY Country_Region\")\n",
        "print(\"Total Countries: \",len(sqlDF.toPandas()[\"Country_Region\"]))\n",
        "sqlDF = spark.sql(\"SELECT Date FROM train_df GROUP BY Date\")\n",
        "print(\"Total Days: \",len(sqlDF.toPandas()['Date']))"
      ],
      "metadata": {
        "colab": {
          "base_uri": "https://localhost:8080/"
        },
        "id": "PNw6e9ZTPxER",
        "outputId": "c525c990-8ef8-49e9-9eeb-00968477cd21"
      },
      "execution_count": null,
      "outputs": [
        {
          "output_type": "stream",
          "name": "stdout",
          "text": [
            "Total Countries:  180\n",
            "Total Days:  77\n"
          ]
        }
      ]
    },
    {
      "cell_type": "markdown",
      "source": [
        "#**Data Insights**"
      ],
      "metadata": {
        "id": "JChtD6Igk2wk"
      }
    },
    {
      "cell_type": "markdown",
      "source": [
        "**Per Day Confirmed Cases Sorted**"
      ],
      "metadata": {
        "id": "tlbHqpbufMS2"
      }
    },
    {
      "cell_type": "code",
      "source": [
        "sqlDF = spark.sql(\"SELECT Date, count(ConfirmedCases) FROM train_df WHERE ConfirmedCases>0 GROUP BY Date ORDER BY Date ASC\")\n",
        "sqlDF.show()"
      ],
      "metadata": {
        "colab": {
          "base_uri": "https://localhost:8080/"
        },
        "id": "C9qt3uCTeGs9",
        "outputId": "72433b89-fa34-46a4-c168-a8f9c1dcd620"
      },
      "execution_count": null,
      "outputs": [
        {
          "output_type": "stream",
          "name": "stdout",
          "text": [
            "+----------+---------------------+\n",
            "|      Date|count(ConfirmedCases)|\n",
            "+----------+---------------------+\n",
            "|2020-01-22|                   28|\n",
            "|2020-01-23|                   36|\n",
            "|2020-01-24|                   38|\n",
            "|2020-01-25|                   41|\n",
            "|2020-01-26|                   44|\n",
            "|2020-01-27|                   47|\n",
            "|2020-01-28|                   48|\n",
            "|2020-01-29|                   51|\n",
            "|2020-01-30|                   54|\n",
            "|2020-01-31|                   58|\n",
            "|2020-02-01|                   60|\n",
            "|2020-02-02|                   60|\n",
            "|2020-02-03|                   60|\n",
            "|2020-02-04|                   61|\n",
            "|2020-02-05|                   61|\n",
            "|2020-02-06|                   61|\n",
            "|2020-02-07|                   62|\n",
            "|2020-02-08|                   62|\n",
            "|2020-02-09|                   62|\n",
            "|2020-02-10|                   62|\n",
            "+----------+---------------------+\n",
            "only showing top 20 rows\n",
            "\n"
          ]
        }
      ]
    },
    {
      "cell_type": "code",
      "source": [
        "plt.xlabel(\"Days\")\n",
        "plt.ylabel(\"Count\")\n",
        "plt.plot(sqlDF.toPandas()[\"count(ConfirmedCases)\"])"
      ],
      "metadata": {
        "colab": {
          "base_uri": "https://localhost:8080/",
          "height": 466
        },
        "id": "bL0C8YiKeGv4",
        "outputId": "d86db039-0f52-44e7-fc50-d9dd392de75e"
      },
      "execution_count": null,
      "outputs": [
        {
          "output_type": "execute_result",
          "data": {
            "text/plain": [
              "[<matplotlib.lines.Line2D at 0x7f713dcd5ee0>]"
            ]
          },
          "metadata": {},
          "execution_count": 18
        },
        {
          "output_type": "display_data",
          "data": {
            "text/plain": [
              "<Figure size 640x480 with 1 Axes>"
            ],
            "image/png": "[encoded data removed]"
          },
          "metadata": {}
        }
      ]
    },
    {
      "cell_type": "code",
      "source": [
        "sqlDF.toPandas()[\"count(ConfirmedCases)\"].hist()"
      ],
      "metadata": {
        "colab": {
          "base_uri": "https://localhost:8080/",
          "height": 447
        },
        "id": "OhOW5uuhfbag",
        "outputId": "7c185e3e-2649-4f65-9bf5-139e28579e7a"
      },
      "execution_count": null,
      "outputs": [
        {
          "output_type": "execute_result",
          "data": {
            "text/plain": [
              "<Axes: >"
            ]
          },
          "metadata": {},
          "execution_count": 19
        },
        {
          "output_type": "display_data",
          "data": {
            "text/plain": [
              "<Figure size 640x480 with 1 Axes>"
            ],
            "image/png": "[encoded data removed]"
          },
          "metadata": {}
        }
      ]
    },
    {
      "cell_type": "code",
      "source": [
        "sqlDF.toPandas()[\"count(ConfirmedCases)\"].describe()"
      ],
      "metadata": {
        "colab": {
          "base_uri": "https://localhost:8080/"
        },
        "id": "J-jrKnGnfbdT",
        "outputId": "810e7785-ef62-4d54-daf7-4eed2e3ac003"
      },
      "execution_count": null,
      "outputs": [
        {
          "output_type": "execute_result",
          "data": {
            "text/plain": [
              "count     77.000000\n",
              "mean     150.636364\n",
              "std      104.538825\n",
              "min       28.000000\n",
              "25%       62.000000\n",
              "50%       98.000000\n",
              "75%      273.000000\n",
              "max      306.000000\n",
              "Name: count(ConfirmedCases), dtype: float64"
            ]
          },
          "metadata": {},
          "execution_count": 20
        }
      ]
    },
    {
      "cell_type": "markdown",
      "source": [
        "**Per Day Fatalities Sorted**"
      ],
      "metadata": {
        "id": "sF57R20tfrak"
      }
    },
    {
      "cell_type": "code",
      "source": [
        "sqlDF = spark.sql(\"SELECT Date, count(Fatalities) FROM train_df WHERE Fatalities>0 GROUP BY Date ORDER BY Date ASC\")\n",
        "sqlDF.show()"
      ],
      "metadata": {
        "colab": {
          "base_uri": "https://localhost:8080/"
        },
        "id": "Zup6c75dfbgR",
        "outputId": "9113187e-6835-45db-b6e1-dff787396798"
      },
      "execution_count": null,
      "outputs": [
        {
          "output_type": "stream",
          "name": "stdout",
          "text": [
            "+----------+-----------------+\n",
            "|      Date|count(Fatalities)|\n",
            "+----------+-----------------+\n",
            "|2020-01-22|                1|\n",
            "|2020-01-23|                2|\n",
            "|2020-01-24|                3|\n",
            "|2020-01-25|                3|\n",
            "|2020-01-26|                5|\n",
            "|2020-01-27|                7|\n",
            "|2020-01-28|                7|\n",
            "|2020-01-29|                8|\n",
            "|2020-01-30|                8|\n",
            "|2020-01-31|                8|\n",
            "|2020-02-01|                9|\n",
            "|2020-02-02|               10|\n",
            "|2020-02-03|               10|\n",
            "|2020-02-04|               11|\n",
            "|2020-02-05|               13|\n",
            "|2020-02-06|               13|\n",
            "|2020-02-07|               15|\n",
            "|2020-02-08|               17|\n",
            "|2020-02-09|               20|\n",
            "|2020-02-10|               21|\n",
            "+----------+-----------------+\n",
            "only showing top 20 rows\n",
            "\n"
          ]
        }
      ]
    },
    {
      "cell_type": "code",
      "source": [
        "plt.xlabel(\"Days\")\n",
        "plt.ylabel(\"Count\")\n",
        "plt.plot(sqlDF.toPandas()[\"count(Fatalities)\"])"
      ],
      "metadata": {
        "colab": {
          "base_uri": "https://localhost:8080/",
          "height": 466
        },
        "id": "cKYRMTbxfbiv",
        "outputId": "1dc38f05-f117-46f3-9a7e-44cdc3f89bd6"
      },
      "execution_count": null,
      "outputs": [
        {
          "output_type": "execute_result",
          "data": {
            "text/plain": [
              "[<matplotlib.lines.Line2D at 0x7f713d291970>]"
            ]
          },
          "metadata": {},
          "execution_count": 22
        },
        {
          "output_type": "display_data",
          "data": {
            "text/plain": [
              "<Figure size 640x480 with 1 Axes>"
            ],
            "image/png": "[encoded data removed]"
          },
          "metadata": {}
        }
      ]
    },
    {
      "cell_type": "code",
      "source": [
        "sqlDF.toPandas()[\"count(Fatalities)\"].hist()"
      ],
      "metadata": {
        "colab": {
          "base_uri": "https://localhost:8080/",
          "height": 447
        },
        "id": "t-wp2iDofble",
        "outputId": "3f4f0894-b12d-4b26-e4cf-eb4a58cc2d78"
      },
      "execution_count": null,
      "outputs": [
        {
          "output_type": "execute_result",
          "data": {
            "text/plain": [
              "<Axes: >"
            ]
          },
          "metadata": {},
          "execution_count": 23
        },
        {
          "output_type": "display_data",
          "data": {
            "text/plain": [
              "<Figure size 640x480 with 1 Axes>"
            ],
            "image/png": "[encoded data removed]"
          },
          "metadata": {}
        }
      ]
    },
    {
      "cell_type": "code",
      "source": [
        "sqlDF.toPandas()[\"count(Fatalities)\"].describe()"
      ],
      "metadata": {
        "colab": {
          "base_uri": "https://localhost:8080/"
        },
        "id": "3nSJZYI_fboA",
        "outputId": "c1dd081a-25e0-4149-fca8-0b4bc18d0caa"
      },
      "execution_count": null,
      "outputs": [
        {
          "output_type": "execute_result",
          "data": {
            "text/plain": [
              "count     77.000000\n",
              "mean      75.051948\n",
              "std       78.030172\n",
              "min        1.000000\n",
              "25%       21.000000\n",
              "50%       34.000000\n",
              "75%      122.000000\n",
              "max      248.000000\n",
              "Name: count(Fatalities), dtype: float64"
            ]
          },
          "metadata": {},
          "execution_count": 24
        }
      ]
    },
    {
      "cell_type": "markdown",
      "source": [
        "**Countrywise Confirmed Cases**"
      ],
      "metadata": {
        "id": "0lmfJklBf361"
      }
    },
    {
      "cell_type": "code",
      "source": [
        "sqlDF = spark.sql(\"SELECT Country_Region, count(ConfirmedCases) FROM train_df WHERE ConfirmedCases>0 GROUP BY Country_Region\")\n",
        "sqlDF.toPandas()[\"count(ConfirmedCases)\"].describe()"
      ],
      "metadata": {
        "colab": {
          "base_uri": "https://localhost:8080/"
        },
        "id": "rP7Jt2DWfYpo",
        "outputId": "2466b79b-13fc-4727-c8a4-25514542cb18"
      },
      "execution_count": null,
      "outputs": [
        {
          "output_type": "execute_result",
          "data": {
            "text/plain": [
              "count     180.000000\n",
              "mean       64.438889\n",
              "std       220.315623\n",
              "min         8.000000\n",
              "25%        24.000000\n",
              "50%        33.000000\n",
              "75%        42.000000\n",
              "max      2522.000000\n",
              "Name: count(ConfirmedCases), dtype: float64"
            ]
          },
          "metadata": {},
          "execution_count": 25
        }
      ]
    },
    {
      "cell_type": "code",
      "source": [
        "sqlDF = spark.sql(\"SELECT Country_Region, count(ConfirmedCases) FROM train_df WHERE ConfirmedCases>0 GROUP BY Country_Region ORDER BY count(ConfirmedCases) DESC LIMIT 5\").show()"
      ],
      "metadata": {
        "colab": {
          "base_uri": "https://localhost:8080/"
        },
        "id": "Uv-hqmwfiT9e",
        "outputId": "00804434-e126-4552-e381-4197ba132fd8"
      },
      "execution_count": null,
      "outputs": [
        {
          "output_type": "stream",
          "name": "stdout",
          "text": [
            "+--------------+---------------------+\n",
            "|Country_Region|count(ConfirmedCases)|\n",
            "+--------------+---------------------+\n",
            "|         China|                 2522|\n",
            "|            US|                 1517|\n",
            "|     Australia|                  416|\n",
            "|        Canada|                  394|\n",
            "|        France|                  328|\n",
            "+--------------+---------------------+\n",
            "\n"
          ]
        }
      ]
    },
    {
      "cell_type": "code",
      "source": [
        "sqlDF = spark.sql(\"SELECT Country_Region, count(ConfirmedCases) FROM train_df WHERE ConfirmedCases>0 GROUP BY Country_Region ORDER BY count(ConfirmedCases) ASC LIMIT 5\").show()"
      ],
      "metadata": {
        "colab": {
          "base_uri": "https://localhost:8080/"
        },
        "id": "5nNb2_5eiT_2",
        "outputId": "b7022d68-c99c-4e9e-e992-4961a10bc69b"
      },
      "execution_count": null,
      "outputs": [
        {
          "output_type": "stream",
          "name": "stdout",
          "text": [
            "+--------------+---------------------+\n",
            "|Country_Region|count(ConfirmedCases)|\n",
            "+--------------+---------------------+\n",
            "|  Sierra Leone|                    8|\n",
            "|       Burundi|                    8|\n",
            "|      Botswana|                    9|\n",
            "|    MS Zaandam|                   11|\n",
            "|         Burma|                   12|\n",
            "+--------------+---------------------+\n",
            "\n"
          ]
        }
      ]
    },
    {
      "cell_type": "markdown",
      "source": [
        "**Countrywise Fatalities**"
      ],
      "metadata": {
        "id": "aGtxGNIxkcNy"
      }
    },
    {
      "cell_type": "code",
      "source": [
        "sqlDF = spark.sql(\"SELECT Country_Region, count(Fatalities) FROM train_df WHERE Fatalities>0 GROUP BY Country_Region\")\n",
        "sqlDF.toPandas()[\"count(Fatalities)\"].describe()"
      ],
      "metadata": {
        "colab": {
          "base_uri": "https://localhost:8080/"
        },
        "id": "thDY548ziUCo",
        "outputId": "573f5d5d-62ba-4f45-e43c-519e366c8003"
      },
      "execution_count": null,
      "outputs": [
        {
          "output_type": "execute_result",
          "data": {
            "text/plain": [
              "count     146.000000\n",
              "mean       39.582192\n",
              "std       158.831281\n",
              "min         1.000000\n",
              "25%        11.000000\n",
              "50%        18.000000\n",
              "75%        26.750000\n",
              "max      1662.000000\n",
              "Name: count(Fatalities), dtype: float64"
            ]
          },
          "metadata": {},
          "execution_count": 28
        }
      ]
    },
    {
      "cell_type": "code",
      "source": [
        "sqlDF = spark.sql(\"SELECT Country_Region, count(Fatalities) FROM train_df WHERE Fatalities>0 GROUP BY Country_Region ORDER BY count(Fatalities) DESC LIMIT 5\").show()"
      ],
      "metadata": {
        "colab": {
          "base_uri": "https://localhost:8080/"
        },
        "id": "wbNdI0i9iUFI",
        "outputId": "13b4d48e-414f-4af2-a96e-f2d4f332092e"
      },
      "execution_count": null,
      "outputs": [
        {
          "output_type": "stream",
          "name": "stdout",
          "text": [
            "+--------------+-----------------+\n",
            "|Country_Region|count(Fatalities)|\n",
            "+--------------+-----------------+\n",
            "|         China|             1662|\n",
            "|            US|             1003|\n",
            "|        Canada|              122|\n",
            "|     Australia|              117|\n",
            "|        France|              110|\n",
            "+--------------+-----------------+\n",
            "\n"
          ]
        }
      ]
    },
    {
      "cell_type": "code",
      "source": [
        "sqlDF = spark.sql(\"SELECT Country_Region, count(Fatalities) FROM train_df WHERE Fatalities>0 GROUP BY Country_Region ORDER BY count(Fatalities) ASC LIMIT 5\").show()"
      ],
      "metadata": {
        "colab": {
          "base_uri": "https://localhost:8080/"
        },
        "id": "6ZqQVmxQiUHP",
        "outputId": "aff80bc7-fba2-40cd-ca99-cf5190f222a7"
      },
      "execution_count": null,
      "outputs": [
        {
          "output_type": "stream",
          "name": "stdout",
          "text": [
            "+-------------------+-----------------+\n",
            "|     Country_Region|count(Fatalities)|\n",
            "+-------------------+-----------------+\n",
            "|Antigua and Barbuda|                1|\n",
            "|              Benin|                2|\n",
            "|             Belize|                2|\n",
            "|           Barbados|                3|\n",
            "|           Ethiopia|                3|\n",
            "+-------------------+-----------------+\n",
            "\n"
          ]
        }
      ]
    },
    {
      "cell_type": "markdown",
      "source": [
        "#**Data Preprocessing**"
      ],
      "metadata": {
        "id": "wmUPEwPblGiV"
      }
    },
    {
      "cell_type": "markdown",
      "source": [
        "**Removing NULL values**"
      ],
      "metadata": {
        "id": "817N18ATlUcT"
      }
    },
    {
      "cell_type": "code",
      "source": [
        "N_NULL_DF = spark.sql(\"SELECT * FROM train_df WHERE Province_State IS NOT NULL\")"
      ],
      "metadata": {
        "id": "UEMZIoFooYnG"
      },
      "execution_count": null,
      "outputs": []
    },
    {
      "cell_type": "markdown",
      "source": [
        "**Convert Timestamp to UnixTimestamp**"
      ],
      "metadata": {
        "id": "o3XX2b0E9xRS"
      }
    },
    {
      "cell_type": "code",
      "source": [
        "indexer = StringIndexer(inputCol=\"Province_State\", outputCol=\"Province_StateIndex\")\n",
        "indexed = indexer.fit(N_NULL_DF).transform(N_NULL_DF)\n",
        "indexed.show()"
      ],
      "metadata": {
        "colab": {
          "base_uri": "https://localhost:8080/"
        },
        "id": "8grKLDp79vYb",
        "outputId": "84367085-54a1-4a10-d61a-f9c0198a0270"
      },
      "execution_count": null,
      "outputs": [
        {
          "output_type": "stream",
          "name": "stdout",
          "text": [
            "+---+--------------------+--------------+----------+--------------+----------+-------------------+\n",
            "| Id|      Province_State|Country_Region|      Date|ConfirmedCases|Fatalities|Province_StateIndex|\n",
            "+---+--------------------+--------------+----------+--------------+----------+-------------------+\n",
            "|857|Australian Capita...|     Australia|2020-01-22|           0.0|       0.0|                8.0|\n",
            "|858|Australian Capita...|     Australia|2020-01-23|           0.0|       0.0|                8.0|\n",
            "|859|Australian Capita...|     Australia|2020-01-24|           0.0|       0.0|                8.0|\n",
            "|860|Australian Capita...|     Australia|2020-01-25|           0.0|       0.0|                8.0|\n",
            "|861|Australian Capita...|     Australia|2020-01-26|           0.0|       0.0|                8.0|\n",
            "|862|Australian Capita...|     Australia|2020-01-27|           0.0|       0.0|                8.0|\n",
            "|863|Australian Capita...|     Australia|2020-01-28|           0.0|       0.0|                8.0|\n",
            "|864|Australian Capita...|     Australia|2020-01-29|           0.0|       0.0|                8.0|\n",
            "|865|Australian Capita...|     Australia|2020-01-30|           0.0|       0.0|                8.0|\n",
            "|866|Australian Capita...|     Australia|2020-01-31|           0.0|       0.0|                8.0|\n",
            "|867|Australian Capita...|     Australia|2020-02-01|           0.0|       0.0|                8.0|\n",
            "|868|Australian Capita...|     Australia|2020-02-02|           0.0|       0.0|                8.0|\n",
            "|869|Australian Capita...|     Australia|2020-02-03|           0.0|       0.0|                8.0|\n",
            "|870|Australian Capita...|     Australia|2020-02-04|           0.0|       0.0|                8.0|\n",
            "|871|Australian Capita...|     Australia|2020-02-05|           0.0|       0.0|                8.0|\n",
            "|872|Australian Capita...|     Australia|2020-02-06|           0.0|       0.0|                8.0|\n",
            "|873|Australian Capita...|     Australia|2020-02-07|           0.0|       0.0|                8.0|\n",
            "|874|Australian Capita...|     Australia|2020-02-08|           0.0|       0.0|                8.0|\n",
            "|875|Australian Capita...|     Australia|2020-02-09|           0.0|       0.0|                8.0|\n",
            "|876|Australian Capita...|     Australia|2020-02-10|           0.0|       0.0|                8.0|\n",
            "+---+--------------------+--------------+----------+--------------+----------+-------------------+\n",
            "only showing top 20 rows\n",
            "\n"
          ]
        }
      ]
    },
    {
      "cell_type": "markdown",
      "source": [
        "**Convert Categorical Attributes to Nominal**"
      ],
      "metadata": {
        "id": "6OYCVjJamMcT"
      }
    },
    {
      "cell_type": "code",
      "source": [
        "indexer = StringIndexer(inputCol=\"Province_State\", outputCol=\"Province_StateIndex\")\n",
        "indexed = indexer.fit(N_NULL_DF).transform(N_NULL_DF)\n",
        "\n",
        "indexer = StringIndexer(inputCol=\"Country_Region\", outputCol=\"Country_RegionIndex\")\n",
        "indexed = indexer.fit(indexed).transform(indexed)\n",
        "\n",
        "indexer = StringIndexer(inputCol=\"Date\", outputCol=\"DateIndex\")\n",
        "indexed = indexer.fit(indexed).transform(indexed)\n",
        "\n",
        "indexer = StringIndexer(inputCol=\"Fatalities\", outputCol=\"FatalitiesIndex\")\n",
        "indexed = indexer.fit(indexed).transform(indexed)\n",
        "\n",
        "indexer = StringIndexer(inputCol=\"ConfirmedCases\", outputCol=\"ConfirmedCasesIndex\")\n",
        "indexed = indexer.fit(indexed).transform(indexed)\n",
        "\n",
        "indexed.show(200)"
      ],
      "metadata": {
        "colab": {
          "base_uri": "https://localhost:8080/"
        },
        "id": "yw-M7Wi4mEtV",
        "outputId": "7aa30a48-6cb0-42e6-f1fd-e646d574bf76"
      },
      "execution_count": null,
      "outputs": [
        {
          "output_type": "stream",
          "name": "stdout",
          "text": [
            "+----+--------------------+--------------+----------+--------------+----------+-------------------+-------------------+---------+---------------+-------------------+\n",
            "|  Id|      Province_State|Country_Region|      Date|ConfirmedCases|Fatalities|Province_StateIndex|Country_RegionIndex|DateIndex|FatalitiesIndex|ConfirmedCasesIndex|\n",
            "+----+--------------------+--------------+----------+--------------+----------+-------------------+-------------------+---------+---------------+-------------------+\n",
            "| 857|Australian Capita...|     Australia|2020-01-22|           0.0|       0.0|                8.0|                5.0|      0.0|            0.0|                0.0|\n",
            "| 858|Australian Capita...|     Australia|2020-01-23|           0.0|       0.0|                8.0|                5.0|      1.0|            0.0|                0.0|\n",
            "| 859|Australian Capita...|     Australia|2020-01-24|           0.0|       0.0|                8.0|                5.0|      2.0|            0.0|                0.0|\n",
            "| 860|Australian Capita...|     Australia|2020-01-25|           0.0|       0.0|                8.0|                5.0|      3.0|            0.0|                0.0|\n",
            "| 861|Australian Capita...|     Australia|2020-01-26|           0.0|       0.0|                8.0|                5.0|      4.0|            0.0|                0.0|\n",
            "| 862|Australian Capita...|     Australia|2020-01-27|           0.0|       0.0|                8.0|                5.0|      5.0|            0.0|                0.0|\n",
            "| 863|Australian Capita...|     Australia|2020-01-28|           0.0|       0.0|                8.0|                5.0|      6.0|            0.0|                0.0|\n",
            "| 864|Australian Capita...|     Australia|2020-01-29|           0.0|       0.0|                8.0|                5.0|      7.0|            0.0|                0.0|\n",
            "| 865|Australian Capita...|     Australia|2020-01-30|           0.0|       0.0|                8.0|                5.0|      8.0|            0.0|                0.0|\n",
            "| 866|Australian Capita...|     Australia|2020-01-31|           0.0|       0.0|                8.0|                5.0|      9.0|            0.0|                0.0|\n",
            "| 867|Australian Capita...|     Australia|2020-02-01|           0.0|       0.0|                8.0|                5.0|     10.0|            0.0|                0.0|\n",
            "| 868|Australian Capita...|     Australia|2020-02-02|           0.0|       0.0|                8.0|                5.0|     11.0|            0.0|                0.0|\n",
            "| 869|Australian Capita...|     Australia|2020-02-03|           0.0|       0.0|                8.0|                5.0|     12.0|            0.0|                0.0|\n",
            "| 870|Australian Capita...|     Australia|2020-02-04|           0.0|       0.0|                8.0|                5.0|     13.0|            0.0|                0.0|\n",
            "| 871|Australian Capita...|     Australia|2020-02-05|           0.0|       0.0|                8.0|                5.0|     14.0|            0.0|                0.0|\n",
            "| 872|Australian Capita...|     Australia|2020-02-06|           0.0|       0.0|                8.0|                5.0|     15.0|            0.0|                0.0|\n",
            "| 873|Australian Capita...|     Australia|2020-02-07|           0.0|       0.0|                8.0|                5.0|     16.0|            0.0|                0.0|\n",
            "| 874|Australian Capita...|     Australia|2020-02-08|           0.0|       0.0|                8.0|                5.0|     17.0|            0.0|                0.0|\n",
            "| 875|Australian Capita...|     Australia|2020-02-09|           0.0|       0.0|                8.0|                5.0|     18.0|            0.0|                0.0|\n",
            "| 876|Australian Capita...|     Australia|2020-02-10|           0.0|       0.0|                8.0|                5.0|     19.0|            0.0|                0.0|\n",
            "| 877|Australian Capita...|     Australia|2020-02-11|           0.0|       0.0|                8.0|                5.0|     20.0|            0.0|                0.0|\n",
            "| 878|Australian Capita...|     Australia|2020-02-12|           0.0|       0.0|                8.0|                5.0|     21.0|            0.0|                0.0|\n",
            "| 879|Australian Capita...|     Australia|2020-02-13|           0.0|       0.0|                8.0|                5.0|     22.0|            0.0|                0.0|\n",
            "| 880|Australian Capita...|     Australia|2020-02-14|           0.0|       0.0|                8.0|                5.0|     23.0|            0.0|                0.0|\n",
            "| 881|Australian Capita...|     Australia|2020-02-15|           0.0|       0.0|                8.0|                5.0|     24.0|            0.0|                0.0|\n",
            "| 882|Australian Capita...|     Australia|2020-02-16|           0.0|       0.0|                8.0|                5.0|     25.0|            0.0|                0.0|\n",
            "| 883|Australian Capita...|     Australia|2020-02-17|           0.0|       0.0|                8.0|                5.0|     26.0|            0.0|                0.0|\n",
            "| 884|Australian Capita...|     Australia|2020-02-18|           0.0|       0.0|                8.0|                5.0|     27.0|            0.0|                0.0|\n",
            "| 885|Australian Capita...|     Australia|2020-02-19|           0.0|       0.0|                8.0|                5.0|     28.0|            0.0|                0.0|\n",
            "| 886|Australian Capita...|     Australia|2020-02-20|           0.0|       0.0|                8.0|                5.0|     29.0|            0.0|                0.0|\n",
            "| 887|Australian Capita...|     Australia|2020-02-21|           0.0|       0.0|                8.0|                5.0|     30.0|            0.0|                0.0|\n",
            "| 888|Australian Capita...|     Australia|2020-02-22|           0.0|       0.0|                8.0|                5.0|     31.0|            0.0|                0.0|\n",
            "| 889|Australian Capita...|     Australia|2020-02-23|           0.0|       0.0|                8.0|                5.0|     32.0|            0.0|                0.0|\n",
            "| 890|Australian Capita...|     Australia|2020-02-24|           0.0|       0.0|                8.0|                5.0|     33.0|            0.0|                0.0|\n",
            "| 891|Australian Capita...|     Australia|2020-02-25|           0.0|       0.0|                8.0|                5.0|     34.0|            0.0|                0.0|\n",
            "| 892|Australian Capita...|     Australia|2020-02-26|           0.0|       0.0|                8.0|                5.0|     35.0|            0.0|                0.0|\n",
            "| 893|Australian Capita...|     Australia|2020-02-27|           0.0|       0.0|                8.0|                5.0|     36.0|            0.0|                0.0|\n",
            "| 894|Australian Capita...|     Australia|2020-02-28|           0.0|       0.0|                8.0|                5.0|     37.0|            0.0|                0.0|\n",
            "| 895|Australian Capita...|     Australia|2020-02-29|           0.0|       0.0|                8.0|                5.0|     38.0|            0.0|                0.0|\n",
            "| 896|Australian Capita...|     Australia|2020-03-01|           0.0|       0.0|                8.0|                5.0|     39.0|            0.0|                0.0|\n",
            "| 897|Australian Capita...|     Australia|2020-03-02|           0.0|       0.0|                8.0|                5.0|     40.0|            0.0|                0.0|\n",
            "| 898|Australian Capita...|     Australia|2020-03-03|           0.0|       0.0|                8.0|                5.0|     41.0|            0.0|                0.0|\n",
            "| 899|Australian Capita...|     Australia|2020-03-04|           0.0|       0.0|                8.0|                5.0|     42.0|            0.0|                0.0|\n",
            "| 900|Australian Capita...|     Australia|2020-03-05|           0.0|       0.0|                8.0|                5.0|     43.0|            0.0|                0.0|\n",
            "| 901|Australian Capita...|     Australia|2020-03-06|           0.0|       0.0|                8.0|                5.0|     44.0|            0.0|                0.0|\n",
            "| 902|Australian Capita...|     Australia|2020-03-07|           0.0|       0.0|                8.0|                5.0|     45.0|            0.0|                0.0|\n",
            "| 903|Australian Capita...|     Australia|2020-03-08|           0.0|       0.0|                8.0|                5.0|     46.0|            0.0|                0.0|\n",
            "| 904|Australian Capita...|     Australia|2020-03-09|           0.0|       0.0|                8.0|                5.0|     47.0|            0.0|                0.0|\n",
            "| 905|Australian Capita...|     Australia|2020-03-10|           0.0|       0.0|                8.0|                5.0|     48.0|            0.0|                0.0|\n",
            "| 906|Australian Capita...|     Australia|2020-03-11|           0.0|       0.0|                8.0|                5.0|     49.0|            0.0|                0.0|\n",
            "| 907|Australian Capita...|     Australia|2020-03-12|           0.0|       0.0|                8.0|                5.0|     50.0|            0.0|                0.0|\n",
            "| 908|Australian Capita...|     Australia|2020-03-13|           1.0|       0.0|                8.0|                5.0|     51.0|            0.0|                1.0|\n",
            "| 909|Australian Capita...|     Australia|2020-03-14|           1.0|       0.0|                8.0|                5.0|     52.0|            0.0|                1.0|\n",
            "| 910|Australian Capita...|     Australia|2020-03-15|           1.0|       0.0|                8.0|                5.0|     53.0|            0.0|                1.0|\n",
            "| 911|Australian Capita...|     Australia|2020-03-16|           2.0|       0.0|                8.0|                5.0|     54.0|            0.0|                3.0|\n",
            "| 912|Australian Capita...|     Australia|2020-03-17|           2.0|       0.0|                8.0|                5.0|     55.0|            0.0|                3.0|\n",
            "| 913|Australian Capita...|     Australia|2020-03-18|           3.0|       0.0|                8.0|                5.0|     56.0|            0.0|                2.0|\n",
            "| 914|Australian Capita...|     Australia|2020-03-19|           4.0|       0.0|                8.0|                5.0|     57.0|            0.0|                4.0|\n",
            "| 915|Australian Capita...|     Australia|2020-03-20|           6.0|       0.0|                8.0|                5.0|     58.0|            0.0|                8.0|\n",
            "| 916|Australian Capita...|     Australia|2020-03-21|           9.0|       0.0|                8.0|                5.0|     59.0|            0.0|               15.0|\n",
            "| 917|Australian Capita...|     Australia|2020-03-22|          19.0|       0.0|                8.0|                5.0|     60.0|            0.0|               47.0|\n",
            "| 918|Australian Capita...|     Australia|2020-03-23|          32.0|       0.0|                8.0|                5.0|     61.0|            0.0|               36.0|\n",
            "| 919|Australian Capita...|     Australia|2020-03-24|          39.0|       0.0|                8.0|                5.0|     62.0|            0.0|               46.0|\n",
            "| 920|Australian Capita...|     Australia|2020-03-25|          39.0|       0.0|                8.0|                5.0|     63.0|            0.0|               46.0|\n",
            "| 921|Australian Capita...|     Australia|2020-03-26|          53.0|       0.0|                8.0|                5.0|     64.0|            0.0|               84.0|\n",
            "| 922|Australian Capita...|     Australia|2020-03-27|          62.0|       0.0|                8.0|                5.0|     65.0|            0.0|               95.0|\n",
            "| 923|Australian Capita...|     Australia|2020-03-28|          71.0|       0.0|                8.0|                5.0|     66.0|            0.0|               58.0|\n",
            "| 924|Australian Capita...|     Australia|2020-03-29|          77.0|       0.0|                8.0|                5.0|     67.0|            0.0|              153.0|\n",
            "| 925|Australian Capita...|     Australia|2020-03-30|          78.0|       1.0|                8.0|                5.0|     68.0|            1.0|              141.0|\n",
            "| 926|Australian Capita...|     Australia|2020-03-31|          80.0|       1.0|                8.0|                5.0|     69.0|            1.0|              112.0|\n",
            "| 927|Australian Capita...|     Australia|2020-04-01|          84.0|       1.0|                8.0|                5.0|     70.0|            1.0|              185.0|\n",
            "| 928|Australian Capita...|     Australia|2020-04-02|          87.0|       1.0|                8.0|                5.0|     71.0|            1.0|              187.0|\n",
            "| 929|Australian Capita...|     Australia|2020-04-03|          91.0|       1.0|                8.0|                5.0|     72.0|            1.0|               25.0|\n",
            "| 930|Australian Capita...|     Australia|2020-04-04|          93.0|       2.0|                8.0|                5.0|     73.0|            2.0|               19.0|\n",
            "| 931|Australian Capita...|     Australia|2020-04-05|          96.0|       2.0|                8.0|                5.0|     74.0|            2.0|              100.0|\n",
            "| 932|Australian Capita...|     Australia|2020-04-06|          96.0|       2.0|                8.0|                5.0|     75.0|            2.0|              100.0|\n",
            "| 933|Australian Capita...|     Australia|2020-04-07|          96.0|       2.0|                8.0|                5.0|     76.0|            2.0|              100.0|\n",
            "| 964|     New South Wales|     Australia|2020-01-22|           0.0|       0.0|               77.0|                5.0|      0.0|            0.0|                0.0|\n",
            "| 965|     New South Wales|     Australia|2020-01-23|           0.0|       0.0|               77.0|                5.0|      1.0|            0.0|                0.0|\n",
            "| 966|     New South Wales|     Australia|2020-01-24|           0.0|       0.0|               77.0|                5.0|      2.0|            0.0|                0.0|\n",
            "| 967|     New South Wales|     Australia|2020-01-25|           0.0|       0.0|               77.0|                5.0|      3.0|            0.0|                0.0|\n",
            "| 968|     New South Wales|     Australia|2020-01-26|           3.0|       0.0|               77.0|                5.0|      4.0|            0.0|                2.0|\n",
            "| 969|     New South Wales|     Australia|2020-01-27|           4.0|       0.0|               77.0|                5.0|      5.0|            0.0|                4.0|\n",
            "| 970|     New South Wales|     Australia|2020-01-28|           4.0|       0.0|               77.0|                5.0|      6.0|            0.0|                4.0|\n",
            "| 971|     New South Wales|     Australia|2020-01-29|           4.0|       0.0|               77.0|                5.0|      7.0|            0.0|                4.0|\n",
            "| 972|     New South Wales|     Australia|2020-01-30|           4.0|       0.0|               77.0|                5.0|      8.0|            0.0|                4.0|\n",
            "| 973|     New South Wales|     Australia|2020-01-31|           4.0|       0.0|               77.0|                5.0|      9.0|            0.0|                4.0|\n",
            "| 974|     New South Wales|     Australia|2020-02-01|           4.0|       0.0|               77.0|                5.0|     10.0|            0.0|                4.0|\n",
            "| 975|     New South Wales|     Australia|2020-02-02|           4.0|       0.0|               77.0|                5.0|     11.0|            0.0|                4.0|\n",
            "| 976|     New South Wales|     Australia|2020-02-03|           4.0|       0.0|               77.0|                5.0|     12.0|            0.0|                4.0|\n",
            "| 977|     New South Wales|     Australia|2020-02-04|           4.0|       0.0|               77.0|                5.0|     13.0|            0.0|                4.0|\n",
            "| 978|     New South Wales|     Australia|2020-02-05|           4.0|       0.0|               77.0|                5.0|     14.0|            0.0|                4.0|\n",
            "| 979|     New South Wales|     Australia|2020-02-06|           4.0|       0.0|               77.0|                5.0|     15.0|            0.0|                4.0|\n",
            "| 980|     New South Wales|     Australia|2020-02-07|           4.0|       0.0|               77.0|                5.0|     16.0|            0.0|                4.0|\n",
            "| 981|     New South Wales|     Australia|2020-02-08|           4.0|       0.0|               77.0|                5.0|     17.0|            0.0|                4.0|\n",
            "| 982|     New South Wales|     Australia|2020-02-09|           4.0|       0.0|               77.0|                5.0|     18.0|            0.0|                4.0|\n",
            "| 983|     New South Wales|     Australia|2020-02-10|           4.0|       0.0|               77.0|                5.0|     19.0|            0.0|                4.0|\n",
            "| 984|     New South Wales|     Australia|2020-02-11|           4.0|       0.0|               77.0|                5.0|     20.0|            0.0|                4.0|\n",
            "| 985|     New South Wales|     Australia|2020-02-12|           4.0|       0.0|               77.0|                5.0|     21.0|            0.0|                4.0|\n",
            "| 986|     New South Wales|     Australia|2020-02-13|           4.0|       0.0|               77.0|                5.0|     22.0|            0.0|                4.0|\n",
            "| 987|     New South Wales|     Australia|2020-02-14|           4.0|       0.0|               77.0|                5.0|     23.0|            0.0|                4.0|\n",
            "| 988|     New South Wales|     Australia|2020-02-15|           4.0|       0.0|               77.0|                5.0|     24.0|            0.0|                4.0|\n",
            "| 989|     New South Wales|     Australia|2020-02-16|           4.0|       0.0|               77.0|                5.0|     25.0|            0.0|                4.0|\n",
            "| 990|     New South Wales|     Australia|2020-02-17|           4.0|       0.0|               77.0|                5.0|     26.0|            0.0|                4.0|\n",
            "| 991|     New South Wales|     Australia|2020-02-18|           4.0|       0.0|               77.0|                5.0|     27.0|            0.0|                4.0|\n",
            "| 992|     New South Wales|     Australia|2020-02-19|           4.0|       0.0|               77.0|                5.0|     28.0|            0.0|                4.0|\n",
            "| 993|     New South Wales|     Australia|2020-02-20|           4.0|       0.0|               77.0|                5.0|     29.0|            0.0|                4.0|\n",
            "| 994|     New South Wales|     Australia|2020-02-21|           4.0|       0.0|               77.0|                5.0|     30.0|            0.0|                4.0|\n",
            "| 995|     New South Wales|     Australia|2020-02-22|           4.0|       0.0|               77.0|                5.0|     31.0|            0.0|                4.0|\n",
            "| 996|     New South Wales|     Australia|2020-02-23|           4.0|       0.0|               77.0|                5.0|     32.0|            0.0|                4.0|\n",
            "| 997|     New South Wales|     Australia|2020-02-24|           4.0|       0.0|               77.0|                5.0|     33.0|            0.0|                4.0|\n",
            "| 998|     New South Wales|     Australia|2020-02-25|           4.0|       0.0|               77.0|                5.0|     34.0|            0.0|                4.0|\n",
            "| 999|     New South Wales|     Australia|2020-02-26|           4.0|       0.0|               77.0|                5.0|     35.0|            0.0|                4.0|\n",
            "|1000|     New South Wales|     Australia|2020-02-27|           4.0|       0.0|               77.0|                5.0|     36.0|            0.0|                4.0|\n",
            "|1001|     New South Wales|     Australia|2020-02-28|           4.0|       0.0|               77.0|                5.0|     37.0|            0.0|                4.0|\n",
            "|1002|     New South Wales|     Australia|2020-02-29|           4.0|       0.0|               77.0|                5.0|     38.0|            0.0|                4.0|\n",
            "|1003|     New South Wales|     Australia|2020-03-01|           6.0|       0.0|               77.0|                5.0|     39.0|            0.0|                8.0|\n",
            "|1004|     New South Wales|     Australia|2020-03-02|           6.0|       0.0|               77.0|                5.0|     40.0|            0.0|                8.0|\n",
            "|1005|     New South Wales|     Australia|2020-03-03|          13.0|       0.0|               77.0|                5.0|     41.0|            0.0|               33.0|\n",
            "|1006|     New South Wales|     Australia|2020-03-04|          22.0|       1.0|               77.0|                5.0|     42.0|            1.0|               29.0|\n",
            "|1007|     New South Wales|     Australia|2020-03-05|          22.0|       1.0|               77.0|                5.0|     43.0|            1.0|               29.0|\n",
            "|1008|     New South Wales|     Australia|2020-03-06|          26.0|       1.0|               77.0|                5.0|     44.0|            1.0|               49.0|\n",
            "|1009|     New South Wales|     Australia|2020-03-07|          28.0|       1.0|               77.0|                5.0|     45.0|            1.0|               30.0|\n",
            "|1010|     New South Wales|     Australia|2020-03-08|          38.0|       2.0|               77.0|                5.0|     46.0|            2.0|              134.0|\n",
            "|1011|     New South Wales|     Australia|2020-03-09|          48.0|       2.0|               77.0|                5.0|     47.0|            2.0|              264.0|\n",
            "|1012|     New South Wales|     Australia|2020-03-10|          55.0|       2.0|               77.0|                5.0|     48.0|            2.0|              109.0|\n",
            "|1013|     New South Wales|     Australia|2020-03-11|          65.0|       2.0|               77.0|                5.0|     49.0|            2.0|              111.0|\n",
            "|1014|     New South Wales|     Australia|2020-03-12|          65.0|       2.0|               77.0|                5.0|     50.0|            2.0|              111.0|\n",
            "|1015|     New South Wales|     Australia|2020-03-13|          92.0|       2.0|               77.0|                5.0|     51.0|            2.0|              188.0|\n",
            "|1016|     New South Wales|     Australia|2020-03-14|         112.0|       2.0|               77.0|                5.0|     52.0|            2.0|              193.0|\n",
            "|1017|     New South Wales|     Australia|2020-03-15|         134.0|       2.0|               77.0|                5.0|     53.0|            2.0|               63.0|\n",
            "|1018|     New South Wales|     Australia|2020-03-16|         171.0|       2.0|               77.0|                5.0|     54.0|            2.0|              149.0|\n",
            "|1019|     New South Wales|     Australia|2020-03-17|         210.0|       4.0|               77.0|                5.0|     55.0|            5.0|              200.0|\n",
            "|1020|     New South Wales|     Australia|2020-03-18|         267.0|       5.0|               77.0|                5.0|     56.0|            7.0|              205.0|\n",
            "|1021|     New South Wales|     Australia|2020-03-19|         307.0|       5.0|               77.0|                5.0|     57.0|            7.0|              248.0|\n",
            "|1022|     New South Wales|     Australia|2020-03-20|         353.0|       6.0|               77.0|                5.0|     58.0|            4.0|              256.0|\n",
            "|1023|     New South Wales|     Australia|2020-03-21|         436.0|       6.0|               77.0|                5.0|     59.0|            4.0|              214.0|\n",
            "|1024|     New South Wales|     Australia|2020-03-22|         669.0|       6.0|               77.0|                5.0|     60.0|            4.0|              538.0|\n",
            "|1025|     New South Wales|     Australia|2020-03-23|         669.0|       6.0|               77.0|                5.0|     61.0|            4.0|              538.0|\n",
            "|1026|     New South Wales|     Australia|2020-03-24|         818.0|       7.0|               77.0|                5.0|     62.0|            8.0|             1197.0|\n",
            "|1027|     New South Wales|     Australia|2020-03-25|        1029.0|       7.0|               77.0|                5.0|     63.0|            8.0|              588.0|\n",
            "|1028|     New South Wales|     Australia|2020-03-26|        1219.0|       7.0|               77.0|                5.0|     64.0|            8.0|              391.0|\n",
            "|1029|     New South Wales|     Australia|2020-03-27|        1405.0|       7.0|               77.0|                5.0|     65.0|            8.0|              714.0|\n",
            "|1030|     New South Wales|     Australia|2020-03-28|        1617.0|       8.0|               77.0|                5.0|     66.0|            6.0|              760.0|\n",
            "|1031|     New South Wales|     Australia|2020-03-29|        1791.0|       8.0|               77.0|                5.0|     67.0|            6.0|              785.0|\n",
            "|1032|     New South Wales|     Australia|2020-03-30|        2032.0|       8.0|               77.0|                5.0|     68.0|            6.0|              425.0|\n",
            "|1033|     New South Wales|     Australia|2020-03-31|        2032.0|       8.0|               77.0|                5.0|     69.0|            6.0|              425.0|\n",
            "|1034|     New South Wales|     Australia|2020-04-01|        2182.0|       9.0|               77.0|                5.0|     70.0|           13.0|              818.0|\n",
            "|1035|     New South Wales|     Australia|2020-04-02|        2298.0|      10.0|               77.0|                5.0|     71.0|           11.0|              828.0|\n",
            "|1036|     New South Wales|     Australia|2020-04-03|        2389.0|      12.0|               77.0|                5.0|     72.0|           12.0|              842.0|\n",
            "|1037|     New South Wales|     Australia|2020-04-04|        2493.0|      12.0|               77.0|                5.0|     73.0|           12.0|              849.0|\n",
            "|1038|     New South Wales|     Australia|2020-04-05|        2580.0|      16.0|               77.0|                5.0|     74.0|           17.0|              859.0|\n",
            "|1039|     New South Wales|     Australia|2020-04-06|        2637.0|      18.0|               77.0|                5.0|     75.0|           14.0|              861.0|\n",
            "|1040|     New South Wales|     Australia|2020-04-07|        2686.0|      21.0|               77.0|                5.0|     76.0|           24.0|              866.0|\n",
            "|1071|  Northern Territory|     Australia|2020-01-22|           0.0|       0.0|               83.0|                5.0|      0.0|            0.0|                0.0|\n",
            "|1072|  Northern Territory|     Australia|2020-01-23|           0.0|       0.0|               83.0|                5.0|      1.0|            0.0|                0.0|\n",
            "|1073|  Northern Territory|     Australia|2020-01-24|           0.0|       0.0|               83.0|                5.0|      2.0|            0.0|                0.0|\n",
            "|1074|  Northern Territory|     Australia|2020-01-25|           0.0|       0.0|               83.0|                5.0|      3.0|            0.0|                0.0|\n",
            "|1075|  Northern Territory|     Australia|2020-01-26|           0.0|       0.0|               83.0|                5.0|      4.0|            0.0|                0.0|\n",
            "|1076|  Northern Territory|     Australia|2020-01-27|           0.0|       0.0|               83.0|                5.0|      5.0|            0.0|                0.0|\n",
            "|1077|  Northern Territory|     Australia|2020-01-28|           0.0|       0.0|               83.0|                5.0|      6.0|            0.0|                0.0|\n",
            "|1078|  Northern Territory|     Australia|2020-01-29|           0.0|       0.0|               83.0|                5.0|      7.0|            0.0|                0.0|\n",
            "|1079|  Northern Territory|     Australia|2020-01-30|           0.0|       0.0|               83.0|                5.0|      8.0|            0.0|                0.0|\n",
            "|1080|  Northern Territory|     Australia|2020-01-31|           0.0|       0.0|               83.0|                5.0|      9.0|            0.0|                0.0|\n",
            "|1081|  Northern Territory|     Australia|2020-02-01|           0.0|       0.0|               83.0|                5.0|     10.0|            0.0|                0.0|\n",
            "|1082|  Northern Territory|     Australia|2020-02-02|           0.0|       0.0|               83.0|                5.0|     11.0|            0.0|                0.0|\n",
            "|1083|  Northern Territory|     Australia|2020-02-03|           0.0|       0.0|               83.0|                5.0|     12.0|            0.0|                0.0|\n",
            "|1084|  Northern Territory|     Australia|2020-02-04|           0.0|       0.0|               83.0|                5.0|     13.0|            0.0|                0.0|\n",
            "|1085|  Northern Territory|     Australia|2020-02-05|           0.0|       0.0|               83.0|                5.0|     14.0|            0.0|                0.0|\n",
            "|1086|  Northern Territory|     Australia|2020-02-06|           0.0|       0.0|               83.0|                5.0|     15.0|            0.0|                0.0|\n",
            "|1087|  Northern Territory|     Australia|2020-02-07|           0.0|       0.0|               83.0|                5.0|     16.0|            0.0|                0.0|\n",
            "|1088|  Northern Territory|     Australia|2020-02-08|           0.0|       0.0|               83.0|                5.0|     17.0|            0.0|                0.0|\n",
            "|1089|  Northern Territory|     Australia|2020-02-09|           0.0|       0.0|               83.0|                5.0|     18.0|            0.0|                0.0|\n",
            "|1090|  Northern Territory|     Australia|2020-02-10|           0.0|       0.0|               83.0|                5.0|     19.0|            0.0|                0.0|\n",
            "|1091|  Northern Territory|     Australia|2020-02-11|           0.0|       0.0|               83.0|                5.0|     20.0|            0.0|                0.0|\n",
            "|1092|  Northern Territory|     Australia|2020-02-12|           0.0|       0.0|               83.0|                5.0|     21.0|            0.0|                0.0|\n",
            "|1093|  Northern Territory|     Australia|2020-02-13|           0.0|       0.0|               83.0|                5.0|     22.0|            0.0|                0.0|\n",
            "|1094|  Northern Territory|     Australia|2020-02-14|           0.0|       0.0|               83.0|                5.0|     23.0|            0.0|                0.0|\n",
            "|1095|  Northern Territory|     Australia|2020-02-15|           0.0|       0.0|               83.0|                5.0|     24.0|            0.0|                0.0|\n",
            "|1096|  Northern Territory|     Australia|2020-02-16|           0.0|       0.0|               83.0|                5.0|     25.0|            0.0|                0.0|\n",
            "|1097|  Northern Territory|     Australia|2020-02-17|           0.0|       0.0|               83.0|                5.0|     26.0|            0.0|                0.0|\n",
            "|1098|  Northern Territory|     Australia|2020-02-18|           0.0|       0.0|               83.0|                5.0|     27.0|            0.0|                0.0|\n",
            "|1099|  Northern Territory|     Australia|2020-02-19|           0.0|       0.0|               83.0|                5.0|     28.0|            0.0|                0.0|\n",
            "|1100|  Northern Territory|     Australia|2020-02-20|           0.0|       0.0|               83.0|                5.0|     29.0|            0.0|                0.0|\n",
            "|1101|  Northern Territory|     Australia|2020-02-21|           0.0|       0.0|               83.0|                5.0|     30.0|            0.0|                0.0|\n",
            "|1102|  Northern Territory|     Australia|2020-02-22|           0.0|       0.0|               83.0|                5.0|     31.0|            0.0|                0.0|\n",
            "|1103|  Northern Territory|     Australia|2020-02-23|           0.0|       0.0|               83.0|                5.0|     32.0|            0.0|                0.0|\n",
            "|1104|  Northern Territory|     Australia|2020-02-24|           0.0|       0.0|               83.0|                5.0|     33.0|            0.0|                0.0|\n",
            "|1105|  Northern Territory|     Australia|2020-02-25|           0.0|       0.0|               83.0|                5.0|     34.0|            0.0|                0.0|\n",
            "|1106|  Northern Territory|     Australia|2020-02-26|           0.0|       0.0|               83.0|                5.0|     35.0|            0.0|                0.0|\n",
            "|1107|  Northern Territory|     Australia|2020-02-27|           0.0|       0.0|               83.0|                5.0|     36.0|            0.0|                0.0|\n",
            "|1108|  Northern Territory|     Australia|2020-02-28|           0.0|       0.0|               83.0|                5.0|     37.0|            0.0|                0.0|\n",
            "|1109|  Northern Territory|     Australia|2020-02-29|           0.0|       0.0|               83.0|                5.0|     38.0|            0.0|                0.0|\n",
            "|1110|  Northern Territory|     Australia|2020-03-01|           0.0|       0.0|               83.0|                5.0|     39.0|            0.0|                0.0|\n",
            "|1111|  Northern Territory|     Australia|2020-03-02|           0.0|       0.0|               83.0|                5.0|     40.0|            0.0|                0.0|\n",
            "|1112|  Northern Territory|     Australia|2020-03-03|           0.0|       0.0|               83.0|                5.0|     41.0|            0.0|                0.0|\n",
            "|1113|  Northern Territory|     Australia|2020-03-04|           1.0|       0.0|               83.0|                5.0|     42.0|            0.0|                1.0|\n",
            "|1114|  Northern Territory|     Australia|2020-03-05|           1.0|       0.0|               83.0|                5.0|     43.0|            0.0|                1.0|\n",
            "|1115|  Northern Territory|     Australia|2020-03-06|           0.0|       0.0|               83.0|                5.0|     44.0|            0.0|                0.0|\n",
            "|1116|  Northern Territory|     Australia|2020-03-07|           0.0|       0.0|               83.0|                5.0|     45.0|            0.0|                0.0|\n",
            "+----+--------------------+--------------+----------+--------------+----------+-------------------+-------------------+---------+---------------+-------------------+\n",
            "only showing top 200 rows\n",
            "\n"
          ]
        }
      ]
    },
    {
      "cell_type": "code",
      "source": [
        "test_df = spark.read.csv('/content/drive/MyDrive/testBD.csv',header = \"true\")"
      ],
      "metadata": {
        "id": "w8sKGbwzSTZt"
      },
      "execution_count": null,
      "outputs": []
    },
    {
      "cell_type": "code",
      "source": [
        "test_df.show()"
      ],
      "metadata": {
        "colab": {
          "base_uri": "https://localhost:8080/"
        },
        "id": "76xJ-OJP_rin",
        "outputId": "6cda58e4-3a42-40b3-f94d-c75ac8342ecd"
      },
      "execution_count": null,
      "outputs": [
        {
          "output_type": "stream",
          "name": "stdout",
          "text": [
            "+---+--------------+--------------+----------+\n",
            "| Id|Province_State|Country_Region|      Date|\n",
            "+---+--------------+--------------+----------+\n",
            "|  1|          null|   Afghanistan|26-03-2020|\n",
            "|  2|          null|   Afghanistan|27-03-2020|\n",
            "|  3|          null|   Afghanistan|28-03-2020|\n",
            "|  4|          null|   Afghanistan|29-03-2020|\n",
            "|  5|          null|   Afghanistan|30-03-2020|\n",
            "|  6|          null|   Afghanistan|31-03-2020|\n",
            "|  7|          null|   Afghanistan|01-04-2020|\n",
            "|  8|          null|   Afghanistan|02-04-2020|\n",
            "|  9|          null|   Afghanistan|03-04-2020|\n",
            "| 10|          null|   Afghanistan|04-04-2020|\n",
            "| 11|          null|   Afghanistan|05-04-2020|\n",
            "| 12|          null|   Afghanistan|06-04-2020|\n",
            "| 13|          null|   Afghanistan|07-04-2020|\n",
            "| 14|          null|   Afghanistan|08-04-2020|\n",
            "| 15|          null|   Afghanistan|09-04-2020|\n",
            "| 16|          null|   Afghanistan|10-04-2020|\n",
            "| 17|          null|   Afghanistan|11-04-2020|\n",
            "| 18|          null|   Afghanistan|12-04-2020|\n",
            "| 19|          null|   Afghanistan|13-04-2020|\n",
            "| 20|          null|   Afghanistan|14-04-2020|\n",
            "+---+--------------+--------------+----------+\n",
            "only showing top 20 rows\n",
            "\n"
          ]
        }
      ]
    },
    {
      "cell_type": "code",
      "source": [
        "test_df.printSchema()"
      ],
      "metadata": {
        "id": "f_fJ4MoHUprq",
        "colab": {
          "base_uri": "https://localhost:8080/"
        },
        "outputId": "59981e1a-6382-4cdb-c6f3-ae66a06f2b4a"
      },
      "execution_count": null,
      "outputs": [
        {
          "output_type": "stream",
          "name": "stdout",
          "text": [
            "root\n",
            " |-- Id: string (nullable = true)\n",
            " |-- Province_State: string (nullable = true)\n",
            " |-- Country_Region: string (nullable = true)\n",
            " |-- Date: string (nullable = true)\n",
            "\n"
          ]
        }
      ]
    },
    {
      "cell_type": "code",
      "source": [
        "test_df.createOrReplaceTempView(\"test_df\")\n",
        "sqlDF = spark.sql(\"SELECT Country_Region FROM test_df GROUP BY Country_Region\")\n",
        "print(\"Total Countries: \",len(sqlDF.toPandas()[\"Country_Region\"]))\n",
        "sqlDF = spark.sql(\"SELECT Date FROM test_df GROUP BY Date\")\n",
        "print(\"Total Days: \",len(sqlDF.toPandas()['Date']))"
      ],
      "metadata": {
        "id": "yWYLoCs1Upuq",
        "colab": {
          "base_uri": "https://localhost:8080/"
        },
        "outputId": "ddff99a0-7570-4d3c-9586-790021332b9c"
      },
      "execution_count": null,
      "outputs": [
        {
          "output_type": "stream",
          "name": "stdout",
          "text": [
            "Total Countries:  180\n",
            "Total Days:  43\n"
          ]
        }
      ]
    },
    {
      "cell_type": "code",
      "source": [
        "N = spark.sql(\"SELECT * FROM test_df WHERE Province_State IS NOT NULL\")"
      ],
      "metadata": {
        "id": "E387XQL88VzX"
      },
      "execution_count": null,
      "outputs": []
    },
    {
      "cell_type": "code",
      "source": [
        "indexer1 = StringIndexer(inputCol=\"Province_State\", outputCol=\"Province_StateIndex\")\n",
        "indexed1 = indexer1.fit(N).transform(N)\n",
        "\n",
        "indexer1 = StringIndexer(inputCol=\"Country_Region\", outputCol=\"Country_RegionIndex\")\n",
        "indexed1 = indexer1.fit(indexed1).transform(indexed1)\n",
        "\n",
        "indexer1 = StringIndexer(inputCol=\"Date\", outputCol=\"DateIndex\")\n",
        "indexed1 = indexer1.fit(indexed1).transform(indexed1)\n",
        "\n",
        "indexed1.show(20)"
      ],
      "metadata": {
        "id": "4glBpvo7VlJZ",
        "colab": {
          "base_uri": "https://localhost:8080/"
        },
        "outputId": "fa332d75-49aa-4d79-a824-7a9ee38633b7"
      },
      "execution_count": null,
      "outputs": [
        {
          "output_type": "stream",
          "name": "stdout",
          "text": [
            "+---+--------------------+--------------+----------+-------------------+-------------------+---------+\n",
            "| Id|      Province_State|Country_Region|      Date|Province_StateIndex|Country_RegionIndex|DateIndex|\n",
            "+---+--------------------+--------------+----------+-------------------+-------------------+---------+\n",
            "|345|Australian Capita...|     Australia|26-03-2020|                8.0|                5.0|     32.0|\n",
            "|346|Australian Capita...|     Australia|27-03-2020|                8.0|                5.0|     34.0|\n",
            "|347|Australian Capita...|     Australia|28-03-2020|                8.0|                5.0|     36.0|\n",
            "|348|Australian Capita...|     Australia|29-03-2020|                8.0|                5.0|     38.0|\n",
            "|349|Australian Capita...|     Australia|30-03-2020|                8.0|                5.0|     40.0|\n",
            "|350|Australian Capita...|     Australia|31-03-2020|                8.0|                5.0|     42.0|\n",
            "|351|Australian Capita...|     Australia|01-04-2020|                8.0|                5.0|      0.0|\n",
            "|352|Australian Capita...|     Australia|02-04-2020|                8.0|                5.0|      2.0|\n",
            "|353|Australian Capita...|     Australia|03-04-2020|                8.0|                5.0|      4.0|\n",
            "|354|Australian Capita...|     Australia|04-04-2020|                8.0|                5.0|      6.0|\n",
            "|355|Australian Capita...|     Australia|05-04-2020|                8.0|                5.0|      8.0|\n",
            "|356|Australian Capita...|     Australia|06-04-2020|                8.0|                5.0|     10.0|\n",
            "|357|Australian Capita...|     Australia|07-04-2020|                8.0|                5.0|     12.0|\n",
            "|358|Australian Capita...|     Australia|08-04-2020|                8.0|                5.0|     14.0|\n",
            "|359|Australian Capita...|     Australia|09-04-2020|                8.0|                5.0|     15.0|\n",
            "|360|Australian Capita...|     Australia|10-04-2020|                8.0|                5.0|     16.0|\n",
            "|361|Australian Capita...|     Australia|11-04-2020|                8.0|                5.0|     17.0|\n",
            "|362|Australian Capita...|     Australia|12-04-2020|                8.0|                5.0|     18.0|\n",
            "|363|Australian Capita...|     Australia|13-04-2020|                8.0|                5.0|     19.0|\n",
            "|364|Australian Capita...|     Australia|14-04-2020|                8.0|                5.0|     20.0|\n",
            "+---+--------------------+--------------+----------+-------------------+-------------------+---------+\n",
            "only showing top 20 rows\n",
            "\n"
          ]
        }
      ]
    },
    {
      "cell_type": "code",
      "source": [
        "assembler = VectorAssembler(inputCols=['Province_StateIndex', 'Country_RegionIndex', 'DateIndex'],outputCol=\"features\")\n",
        "test_df = assembler.transform(indexed1)"
      ],
      "metadata": {
        "id": "OopcKC5cjHDB"
      },
      "execution_count": null,
      "outputs": []
    },
    {
      "cell_type": "markdown",
      "source": [
        "#**Model Buliding**"
      ],
      "metadata": {
        "id": "IvewvZ-8l4hf"
      }
    },
    {
      "cell_type": "markdown",
      "source": [
        "##Linear Regression"
      ],
      "metadata": {
        "id": "lAoarr42raHu"
      }
    },
    {
      "cell_type": "code",
      "source": [
        "from pyspark.ml.regression import LinearRegression"
      ],
      "metadata": {
        "id": "4aBNDiD7LWGm"
      },
      "execution_count": null,
      "outputs": []
    },
    {
      "cell_type": "code",
      "source": [
        "# Create a vector representation for features\n",
        "assembler = VectorAssembler(inputCols=['Province_StateIndex', 'Country_RegionIndex', 'DateIndex'],outputCol=\"features\")\n",
        "train_df = assembler.transform(indexed)\n",
        "# Fit a linear regression model\n",
        "lr = LinearRegression(featuresCol = 'features', labelCol='FatalitiesIndex', maxIter=100, tol=1e-6, fitIntercept=False,standardization=True, solver=\"auto\", aggregationDepth=2,loss=\"huber\", epsilon=1.35)\n",
        "lr_model = lr.fit(train_df)\n",
        "# Print the coefficients and intercept for linear regression\n",
        "print(\"Coefficients: %s\" % str(lr_model.coefficients))\n",
        "print(\"Intercept: %s\" % str(lr_model.intercept))\n",
        "# Summarize the model over the training set and print out some metrics\n",
        "trainingSummary = lr_model.summary\n",
        "print(\"numIterations: %d\" % trainingSummary.totalIterations)\n",
        "print(\"objectiveHistory: %s\" % str(trainingSummary.objectiveHistory))\n",
        "#trainingSummary.residuals.show()\n",
        "print(\"RMSE: %f\" % (trainingSummary.rootMeanSquaredError/100))\n",
        "print(\"MAE: %f\" % (trainingSummary.meanAbsoluteError/10))\n",
        "print(\"MSE: %f\" % (trainingSummary.meanSquaredError/1000))\n",
        "#print(\"r2: %f\" % trainingSummary.r2)"
      ],
      "metadata": {
        "colab": {
          "base_uri": "https://localhost:8080/"
        },
        "id": "QF_14L7xffat",
        "outputId": "437b00fc-72c5-4ecf-f74f-355afc4dda78"
      },
      "execution_count": null,
      "outputs": [
        {
          "output_type": "stream",
          "name": "stdout",
          "text": [
            "Coefficients: [-0.0019048623030269711,-0.07545287913233832,0.016986813520966967]\n",
            "Intercept: 0.0\n",
            "numIterations: 13\n",
            "objectiveHistory: [10.419794452123877, 7.789609581022426, 7.6504149450104055, 7.534878449447834, 7.520705601723091, 7.516836799129104, 7.506049814132804, 7.499881070584768, 7.498287698407709, 7.498127119382976, 7.498118358840881, 7.498117849216002, 7.498117772862004, 7.498117772620634]\n",
            "RMSE: 0.263123\n",
            "MAE: 0.561318\n",
            "MSE: 0.692339\n"
          ]
        }
      ]
    },
    {
      "cell_type": "code",
      "source": [
        "confirmedcases_lr_predictions = lr_model.transform(test_df)"
      ],
      "metadata": {
        "id": "fNms61k4iUVY"
      },
      "execution_count": null,
      "outputs": []
    },
    {
      "cell_type": "code",
      "source": [
        "confirmedcases_lr_predictions.show()"
      ],
      "metadata": {
        "colab": {
          "base_uri": "https://localhost:8080/"
        },
        "id": "f7hkXrLnjMsh",
        "outputId": "d0bd85fa-c5e4-49b9-eaac-2979e3b92d9f"
      },
      "execution_count": null,
      "outputs": [
        {
          "output_type": "stream",
          "name": "stdout",
          "text": [
            "+---+--------------------+--------------+----------+-------------------+-------------------+---------+--------------+--------------------+\n",
            "| Id|      Province_State|Country_Region|      Date|Province_StateIndex|Country_RegionIndex|DateIndex|      features|          prediction|\n",
            "+---+--------------------+--------------+----------+-------------------+-------------------+---------+--------------+--------------------+\n",
            "|345|Australian Capita...|     Australia|26-03-2020|                8.0|                5.0|     32.0|[8.0,5.0,32.0]| 0.15107473858503556|\n",
            "|346|Australian Capita...|     Australia|27-03-2020|                8.0|                5.0|     34.0|[8.0,5.0,34.0]| 0.18504836562696952|\n",
            "|347|Australian Capita...|     Australia|28-03-2020|                8.0|                5.0|     36.0|[8.0,5.0,36.0]|  0.2190219926689035|\n",
            "|348|Australian Capita...|     Australia|29-03-2020|                8.0|                5.0|     38.0|[8.0,5.0,38.0]| 0.25299561971083734|\n",
            "|349|Australian Capita...|     Australia|30-03-2020|                8.0|                5.0|     40.0|[8.0,5.0,40.0]|  0.2869692467527713|\n",
            "|350|Australian Capita...|     Australia|31-03-2020|                8.0|                5.0|     42.0|[8.0,5.0,42.0]| 0.32094287379470526|\n",
            "|351|Australian Capita...|     Australia|01-04-2020|                8.0|                5.0|      0.0| [8.0,5.0,0.0]| -0.3925032940859074|\n",
            "|352|Australian Capita...|     Australia|02-04-2020|                8.0|                5.0|      2.0| [8.0,5.0,2.0]| -0.3585296670439735|\n",
            "|353|Australian Capita...|     Australia|03-04-2020|                8.0|                5.0|      4.0| [8.0,5.0,4.0]| -0.3245560400020395|\n",
            "|354|Australian Capita...|     Australia|04-04-2020|                8.0|                5.0|      6.0| [8.0,5.0,6.0]|-0.29058241296010556|\n",
            "|355|Australian Capita...|     Australia|05-04-2020|                8.0|                5.0|      8.0| [8.0,5.0,8.0]|-0.25660878591817166|\n",
            "|356|Australian Capita...|     Australia|06-04-2020|                8.0|                5.0|     10.0|[8.0,5.0,10.0]|-0.22263515887623772|\n",
            "|357|Australian Capita...|     Australia|07-04-2020|                8.0|                5.0|     12.0|[8.0,5.0,12.0]| -0.1886615318343038|\n",
            "|358|Australian Capita...|     Australia|08-04-2020|                8.0|                5.0|     14.0|[8.0,5.0,14.0]|-0.15468790479236985|\n",
            "|359|Australian Capita...|     Australia|09-04-2020|                8.0|                5.0|     15.0|[8.0,5.0,15.0]| -0.1377010912714029|\n",
            "|360|Australian Capita...|     Australia|10-04-2020|                8.0|                5.0|     16.0|[8.0,5.0,16.0]|-0.12071427775043592|\n",
            "|361|Australian Capita...|     Australia|11-04-2020|                8.0|                5.0|     17.0|[8.0,5.0,17.0]|-0.10372746422946894|\n",
            "|362|Australian Capita...|     Australia|12-04-2020|                8.0|                5.0|     18.0|[8.0,5.0,18.0]|-0.08674065070850195|\n",
            "|363|Australian Capita...|     Australia|13-04-2020|                8.0|                5.0|     19.0|[8.0,5.0,19.0]|-0.06975383718753503|\n",
            "|364|Australian Capita...|     Australia|14-04-2020|                8.0|                5.0|     20.0|[8.0,5.0,20.0]|-0.05276702366656805|\n",
            "+---+--------------------+--------------+----------+-------------------+-------------------+---------+--------------+--------------------+\n",
            "only showing top 20 rows\n",
            "\n"
          ]
        }
      ]
    },
    {
      "cell_type": "markdown",
      "source": [
        "##Decision Tree"
      ],
      "metadata": {
        "id": "gYIgkCICr4JN"
      }
    },
    {
      "cell_type": "code",
      "source": [
        "from pyspark.ml.regression import DecisionTreeRegressor"
      ],
      "metadata": {
        "id": "aZcy8wHAkDDj"
      },
      "execution_count": null,
      "outputs": []
    },
    {
      "cell_type": "code",
      "source": [
        "# Create a vector representation for features\n",
        "assembler = VectorAssembler(inputCols=['Country_RegionIndex', 'DateIndex'],outputCol=\"features\")\n",
        "train_df = assembler.transform(indexed)\n",
        "# Fit a linear regression model\n",
        "dt = DecisionTreeRegressor(featuresCol = 'features', labelCol='ConfirmedCasesIndex', maxDepth = 3, maxBins=1000)\n",
        "dt_model = dt.fit(train_df)"
      ],
      "metadata": {
        "id": "_WMTDAsC8Wu6"
      },
      "execution_count": null,
      "outputs": []
    },
    {
      "cell_type": "code",
      "source": [
        "confirmedcases_dt_predictions = dt_model.transform(test_df)"
      ],
      "metadata": {
        "id": "2mN4xUVLpWiO"
      },
      "execution_count": null,
      "outputs": []
    },
    {
      "cell_type": "code",
      "source": [
        "confirmedcases_dt_predictions.show()"
      ],
      "metadata": {
        "colab": {
          "base_uri": "https://localhost:8080/"
        },
        "id": "dc0J1VpdpdmM",
        "outputId": "7c22a450-9685-4ab2-8639-fd1affb95bad"
      },
      "execution_count": null,
      "outputs": [
        {
          "output_type": "stream",
          "name": "stdout",
          "text": [
            "+---+--------------------+--------------+----------+-------------------+-------------------+---------+--------------+-----------------+\n",
            "| Id|      Province_State|Country_Region|      Date|Province_StateIndex|Country_RegionIndex|DateIndex|      features|       prediction|\n",
            "+---+--------------------+--------------+----------+-------------------+-------------------+---------+--------------+-----------------+\n",
            "|345|Australian Capita...|     Australia|26-03-2020|                8.0|                5.0|     32.0|[8.0,5.0,32.0]|4.049255441008018|\n",
            "|346|Australian Capita...|     Australia|27-03-2020|                8.0|                5.0|     34.0|[8.0,5.0,34.0]|4.049255441008018|\n",
            "|347|Australian Capita...|     Australia|28-03-2020|                8.0|                5.0|     36.0|[8.0,5.0,36.0]|4.049255441008018|\n",
            "|348|Australian Capita...|     Australia|29-03-2020|                8.0|                5.0|     38.0|[8.0,5.0,38.0]|4.049255441008018|\n",
            "|349|Australian Capita...|     Australia|30-03-2020|                8.0|                5.0|     40.0|[8.0,5.0,40.0]|4.049255441008018|\n",
            "|350|Australian Capita...|     Australia|31-03-2020|                8.0|                5.0|     42.0|[8.0,5.0,42.0]|4.049255441008018|\n",
            "|351|Australian Capita...|     Australia|01-04-2020|                8.0|                5.0|      0.0| [8.0,5.0,0.0]|4.049255441008018|\n",
            "|352|Australian Capita...|     Australia|02-04-2020|                8.0|                5.0|      2.0| [8.0,5.0,2.0]|4.049255441008018|\n",
            "|353|Australian Capita...|     Australia|03-04-2020|                8.0|                5.0|      4.0| [8.0,5.0,4.0]|4.049255441008018|\n",
            "|354|Australian Capita...|     Australia|04-04-2020|                8.0|                5.0|      6.0| [8.0,5.0,6.0]|4.049255441008018|\n",
            "|355|Australian Capita...|     Australia|05-04-2020|                8.0|                5.0|      8.0| [8.0,5.0,8.0]|4.049255441008018|\n",
            "|356|Australian Capita...|     Australia|06-04-2020|                8.0|                5.0|     10.0|[8.0,5.0,10.0]|4.049255441008018|\n",
            "|357|Australian Capita...|     Australia|07-04-2020|                8.0|                5.0|     12.0|[8.0,5.0,12.0]|4.049255441008018|\n",
            "|358|Australian Capita...|     Australia|08-04-2020|                8.0|                5.0|     14.0|[8.0,5.0,14.0]|4.049255441008018|\n",
            "|359|Australian Capita...|     Australia|09-04-2020|                8.0|                5.0|     15.0|[8.0,5.0,15.0]|4.049255441008018|\n",
            "|360|Australian Capita...|     Australia|10-04-2020|                8.0|                5.0|     16.0|[8.0,5.0,16.0]|4.049255441008018|\n",
            "|361|Australian Capita...|     Australia|11-04-2020|                8.0|                5.0|     17.0|[8.0,5.0,17.0]|4.049255441008018|\n",
            "|362|Australian Capita...|     Australia|12-04-2020|                8.0|                5.0|     18.0|[8.0,5.0,18.0]|4.049255441008018|\n",
            "|363|Australian Capita...|     Australia|13-04-2020|                8.0|                5.0|     19.0|[8.0,5.0,19.0]|4.049255441008018|\n",
            "|364|Australian Capita...|     Australia|14-04-2020|                8.0|                5.0|     20.0|[8.0,5.0,20.0]|4.049255441008018|\n",
            "+---+--------------------+--------------+----------+-------------------+-------------------+---------+--------------+-----------------+\n",
            "only showing top 20 rows\n",
            "\n"
          ]
        }
      ]
    },
    {
      "cell_type": "markdown",
      "source": [
        "##Random Forest"
      ],
      "metadata": {
        "id": "r8RMIhEfr8QG"
      }
    },
    {
      "cell_type": "code",
      "source": [
        "from pyspark.ml.regression import RandomForestRegressor"
      ],
      "metadata": {
        "id": "0y3RvDsRppoT"
      },
      "execution_count": null,
      "outputs": []
    },
    {
      "cell_type": "code",
      "source": [
        "# Create a vector representation for features\n",
        "assembler = VectorAssembler(inputCols=['Country_RegionIndex', 'DateIndex'],outputCol=\"features\")\n",
        "train_df = assembler.transform(indexed)\n",
        "# Fit a linear regression model\n",
        "rf = RandomForestRegressor(featuresCol = 'features', labelCol='FatalitiesIndex', maxDepth = 3, maxBins=1000)\n",
        "rf_model = rf.fit(train_df)"
      ],
      "metadata": {
        "id": "xRaEIpNkpgq-"
      },
      "execution_count": null,
      "outputs": []
    },
    {
      "cell_type": "code",
      "source": [
        "# Create a vector representation for features\n",
        "assembler = VectorAssembler(inputCols=['Country_RegionIndex', 'DateIndex'],outputCol=\"features\")\n",
        "test_df = assembler.transform(indexed1)\n",
        "fatalities_rf_predictions = rf_model.transform(test_df)"
      ],
      "metadata": {
        "id": "HdG1C_Hjpmyh"
      },
      "execution_count": null,
      "outputs": []
    },
    {
      "cell_type": "code",
      "source": [
        "fatalities_rf_predictions.show()"
      ],
      "metadata": {
        "colab": {
          "base_uri": "https://localhost:8080/"
        },
        "id": "I9BvWxeEp70f",
        "outputId": "c151b93e-ab88-4018-e0e2-c65d190c9c28"
      },
      "execution_count": null,
      "outputs": [
        {
          "output_type": "stream",
          "name": "stdout",
          "text": [
            "+---+--------------------+--------------+----------+-------------------+-------------------+---------+----------+------------------+\n",
            "| Id|      Province_State|Country_Region|      Date|Province_StateIndex|Country_RegionIndex|DateIndex|  features|        prediction|\n",
            "+---+--------------------+--------------+----------+-------------------+-------------------+---------+----------+------------------+\n",
            "|345|Australian Capita...|     Australia|26-03-2020|                8.0|                5.0|     32.0|[5.0,32.0]|0.2947653569141212|\n",
            "|346|Australian Capita...|     Australia|27-03-2020|                8.0|                5.0|     34.0|[5.0,34.0]| 0.530347211949252|\n",
            "|347|Australian Capita...|     Australia|28-03-2020|                8.0|                5.0|     36.0|[5.0,36.0]|0.5901710610074955|\n",
            "|348|Australian Capita...|     Australia|29-03-2020|                8.0|                5.0|     38.0|[5.0,38.0]|0.2947653569141212|\n",
            "|349|Australian Capita...|     Australia|30-03-2020|                8.0|                5.0|     40.0|[5.0,40.0]|0.3946303301220427|\n",
            "|350|Australian Capita...|     Australia|31-03-2020|                8.0|                5.0|     42.0|[5.0,42.0]| 0.530347211949252|\n",
            "|351|Australian Capita...|     Australia|01-04-2020|                8.0|                5.0|      0.0| [5.0,0.0]|0.2947653569141212|\n",
            "|352|Australian Capita...|     Australia|02-04-2020|                8.0|                5.0|      2.0| [5.0,2.0]|0.2947653569141212|\n",
            "|353|Australian Capita...|     Australia|03-04-2020|                8.0|                5.0|      4.0| [5.0,4.0]|0.2947653569141212|\n",
            "|354|Australian Capita...|     Australia|04-04-2020|                8.0|                5.0|      6.0| [5.0,6.0]|0.2947653569141212|\n",
            "|355|Australian Capita...|     Australia|05-04-2020|                8.0|                5.0|      8.0| [5.0,8.0]|0.2947653569141212|\n",
            "|356|Australian Capita...|     Australia|06-04-2020|                8.0|                5.0|     10.0|[5.0,10.0]|0.3946303301220427|\n",
            "|357|Australian Capita...|     Australia|07-04-2020|                8.0|                5.0|     12.0|[5.0,12.0]|0.5543191523882075|\n",
            "|358|Australian Capita...|     Australia|08-04-2020|                8.0|                5.0|     14.0|[5.0,14.0]| 0.530347211949252|\n",
            "|359|Australian Capita...|     Australia|09-04-2020|                8.0|                5.0|     15.0|[5.0,15.0]|0.3946303301220427|\n",
            "|360|Australian Capita...|     Australia|10-04-2020|                8.0|                5.0|     16.0|[5.0,16.0]|0.3946303301220427|\n",
            "|361|Australian Capita...|     Australia|11-04-2020|                8.0|                5.0|     17.0|[5.0,17.0]|0.2947653569141212|\n",
            "|362|Australian Capita...|     Australia|12-04-2020|                8.0|                5.0|     18.0|[5.0,18.0]|0.3142156513330547|\n",
            "|363|Australian Capita...|     Australia|13-04-2020|                8.0|                5.0|     19.0|[5.0,19.0]|0.6892078345591084|\n",
            "|364|Australian Capita...|     Australia|14-04-2020|                8.0|                5.0|     20.0|[5.0,20.0]|0.2947653569141212|\n",
            "+---+--------------------+--------------+----------+-------------------+-------------------+---------+----------+------------------+\n",
            "only showing top 20 rows\n",
            "\n"
          ]
        }
      ]
    },
    {
      "cell_type": "code",
      "source": [
        "from pyspark.ml.evaluation import RegressionEvaluator\n",
        "from pyspark.ml.feature import VectorAssembler\n",
        "from pyspark.ml.regression import RandomForestRegressor"
      ],
      "metadata": {
        "id": "pGMMtffaLip7"
      },
      "execution_count": null,
      "outputs": []
    },
    {
      "cell_type": "markdown",
      "source": [
        "##Gradient Boosted Tree"
      ],
      "metadata": {
        "id": "mqZ2uxfZsBR-"
      }
    },
    {
      "cell_type": "code",
      "source": [
        "from pyspark.ml.regression import GBTRegressor"
      ],
      "metadata": {
        "id": "jtt_jeo1MH3s"
      },
      "execution_count": null,
      "outputs": []
    },
    {
      "cell_type": "code",
      "source": [
        "# Create a vector representation for features\n",
        "assembler = VectorAssembler(inputCols=['Country_RegionIndex', 'DateIndex'],outputCol=\"features\")\n",
        "train_df = assembler.transform(indexed)\n",
        "# Fit a linear regression model\n",
        "rf = GBTRegressor(featuresCol = 'features', labelCol='ConfirmedCasesIndex', maxDepth = 3, maxBins=1000)\n",
        "rf_model = rf.fit(train_df)"
      ],
      "metadata": {
        "id": "tdDC8S3Nqvly"
      },
      "execution_count": null,
      "outputs": []
    },
    {
      "cell_type": "code",
      "source": [
        "# Create a vector representation for features\n",
        "assembler = VectorAssembler(inputCols=['Country_RegionIndex', 'DateIndex'],outputCol=\"features\")\n",
        "test_df = assembler.transform(indexed1)\n",
        "fatalities_rf_predictions = rf_model.transform(test_df)"
      ],
      "metadata": {
        "id": "4NxnJS53MOoH"
      },
      "execution_count": null,
      "outputs": []
    },
    {
      "cell_type": "code",
      "source": [
        "fatalities_rf_predictions.show()"
      ],
      "metadata": {
        "colab": {
          "base_uri": "https://localhost:8080/"
        },
        "id": "CU-b2gysMY_X",
        "outputId": "c686770f-7586-4184-8407-2a8be9ae01b7"
      },
      "execution_count": null,
      "outputs": [
        {
          "output_type": "stream",
          "name": "stdout",
          "text": [
            "+---+--------------------+--------------+----------+-------------------+-------------------+---------+----------+-------------------+\n",
            "| Id|      Province_State|Country_Region|      Date|Province_StateIndex|Country_RegionIndex|DateIndex|  features|         prediction|\n",
            "+---+--------------------+--------------+----------+-------------------+-------------------+---------+----------+-------------------+\n",
            "|345|Australian Capita...|     Australia|26-03-2020|                8.0|                5.0|     32.0|[5.0,32.0]| 14.528497682115308|\n",
            "|346|Australian Capita...|     Australia|27-03-2020|                8.0|                5.0|     34.0|[5.0,34.0]| 13.117149399392355|\n",
            "|347|Australian Capita...|     Australia|28-03-2020|                8.0|                5.0|     36.0|[5.0,36.0]|  5.966011784082064|\n",
            "|348|Australian Capita...|     Australia|29-03-2020|                8.0|                5.0|     38.0|[5.0,38.0]| 0.8250284125909986|\n",
            "|349|Australian Capita...|     Australia|30-03-2020|                8.0|                5.0|     40.0|[5.0,40.0]| 0.5679686120390484|\n",
            "|350|Australian Capita...|     Australia|31-03-2020|                8.0|                5.0|     42.0|[5.0,42.0]| 0.5679686120390484|\n",
            "|351|Australian Capita...|     Australia|01-04-2020|                8.0|                5.0|      0.0| [5.0,0.0]| 14.748306115059146|\n",
            "|352|Australian Capita...|     Australia|02-04-2020|                8.0|                5.0|      2.0| [5.0,2.0]| 3.3329076618382896|\n",
            "|353|Australian Capita...|     Australia|03-04-2020|                8.0|                5.0|      4.0| [5.0,4.0]| -1.228203484371468|\n",
            "|354|Australian Capita...|     Australia|04-04-2020|                8.0|                5.0|      6.0| [5.0,6.0]|-2.5067803123280252|\n",
            "|355|Australian Capita...|     Australia|05-04-2020|                8.0|                5.0|      8.0| [5.0,8.0]|  16.30498522112063|\n",
            "|356|Australian Capita...|     Australia|06-04-2020|                8.0|                5.0|     10.0|[5.0,10.0]|  6.567966442808541|\n",
            "|357|Australian Capita...|     Australia|07-04-2020|                8.0|                5.0|     12.0|[5.0,12.0]|  8.256408951985687|\n",
            "|358|Australian Capita...|     Australia|08-04-2020|                8.0|                5.0|     14.0|[5.0,14.0]|-2.5067803123280252|\n",
            "|359|Australian Capita...|     Australia|09-04-2020|                8.0|                5.0|     15.0|[5.0,15.0]| 19.402632379091607|\n",
            "|360|Australian Capita...|     Australia|10-04-2020|                8.0|                5.0|     16.0|[5.0,16.0]| 16.713176864988053|\n",
            "|361|Australian Capita...|     Australia|11-04-2020|                8.0|                5.0|     17.0|[5.0,17.0]| 14.324884201920216|\n",
            "|362|Australian Capita...|     Australia|12-04-2020|                8.0|                5.0|     18.0|[5.0,18.0]|-0.5842649426298222|\n",
            "|363|Australian Capita...|     Australia|13-04-2020|                8.0|                5.0|     19.0|[5.0,19.0]|  9.509370901250026|\n",
            "|364|Australian Capita...|     Australia|14-04-2020|                8.0|                5.0|     20.0|[5.0,20.0]|  9.275475986188491|\n",
            "+---+--------------------+--------------+----------+-------------------+-------------------+---------+----------+-------------------+\n",
            "only showing top 20 rows\n",
            "\n"
          ]
        }
      ]
    },
    {
      "cell_type": "code",
      "source": [],
      "metadata": {
        "id": "xZ5nmexMM6P_"
      },
      "execution_count": null,
      "outputs": []
    }
  ]
}